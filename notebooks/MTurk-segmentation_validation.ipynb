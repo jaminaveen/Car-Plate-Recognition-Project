{
 "cells": [
  {
   "cell_type": "markdown",
   "metadata": {},
   "source": [
    "## -------- Connecting MTurk with python -------------------"
   ]
  },
  {
   "cell_type": "code",
   "execution_count": 3,
   "metadata": {},
   "outputs": [],
   "source": [
    "import boto3\n",
    "import configparser\n",
    "from bs4 import BeautifulSoup\n",
    "import csv\n",
    "import time\n",
    "import glob\n",
    "import pandas as pd\n",
    "\n",
    "region_name = 'us-east-1'\n",
    "\n",
    "\n",
    "# Uncomment this line to use in production\n",
    "# endpoint_url = 'https://mturk-requester.us-east-1.amazonaws.com'\n",
    "config = configparser.ConfigParser()\n",
    "config.read('../conf/config.cfg')\n",
    "\n",
    "aws_access_key_id = config['AWS_access_credentials']['aws_access_key_id']\n",
    "aws_secret_access_key = config['AWS_access_credentials']['aws_secret_access_key']\n",
    "\n",
    "endpoint_url = 'https://mturk-requester-sandbox.us-east-1.amazonaws.com'\n",
    "\n",
    "# Uncomment this line to use in production\n",
    "# endpoint = 'https://mturk-requester.us-east-1.amazonaws.com'"
   ]
  },
  {
   "cell_type": "code",
   "execution_count": 4,
   "metadata": {},
   "outputs": [],
   "source": [
    "mturk_client = boto3.client(\n",
    "    'mturk',\n",
    "    endpoint_url=endpoint_url,\n",
    "    region_name=region_name,\n",
    "    aws_access_key_id= aws_access_key_id,\n",
    "    aws_secret_access_key= aws_secret_access_key,\n",
    ")\n",
    "\n",
    "# This will return $10,000.00 in the MTurk Developer Sandbox\n",
    "#print(mturk_client.get_account_balance()['AvailableBalance'])"
   ]
  },
  {
   "cell_type": "code",
   "execution_count": 5,
   "metadata": {
    "scrolled": true
   },
   "outputs": [],
   "source": [
    "s3_client = boto3.client(\n",
    "    's3',\n",
    "    aws_access_key_id= aws_access_key_id,\n",
    "    aws_secret_access_key= aws_secret_access_key,\n",
    ")\n",
    "def upload_segmented_char_to_bucket(s3_client, file,OBJECT_NAME):\n",
    "    s3_client.upload_file(file, 'segmentedchars', OBJECT_NAME)\n",
    "\n",
    "upload_segmented_char_to_bucket(s3_client,r'C:\\Users\\navee\\Desktop\\My_Masters_NEU\\Fall2019\\ProductGradeDataPipelines\\NumberPlateDetection\\ANPR\\Licence_plate_recognition\\USA_plates\\dataset\\2\\2_6.jpg', r'2/2_6.jpg')"
   ]
  },
  {
   "cell_type": "markdown",
   "metadata": {},
   "source": [
    "## pull all urls"
   ]
  },
  {
   "cell_type": "code",
   "execution_count": 6,
   "metadata": {},
   "outputs": [],
   "source": [
    "def get_objecturls_from_bucket(client, bucket):\n",
    "    \"\"\"\n",
    "    params:\n",
    "    - bucket: s3 bucket with target contents\n",
    "    - client: initialized s3 client object\n",
    "    \"\"\"\n",
    "    next_token = ''\n",
    "    urls = []\n",
    "    base_kwargs = {\n",
    "        'Bucket':bucket\n",
    "    }\n",
    "    while next_token is not None:\n",
    "        kwargs = base_kwargs.copy()\n",
    "        if next_token != '':\n",
    "            kwargs.update({'ContinuationToken': next_token})\n",
    "        results = client.list_objects_v2(**kwargs)\n",
    "        contents = results.get('Contents')\n",
    "        #print(contents)\n",
    "        for i in contents:\n",
    "            k = i.get('Key')\n",
    "            url = \"https://%s.s3.amazonaws.com/%s\" % (bucket, k)\n",
    "            urls.append(url)\n",
    "        next_token = results.get('NextContinuationToken')\n",
    "    return urls\n"
   ]
  },
  {
   "cell_type": "markdown",
   "metadata": {},
   "source": [
    "## create hit"
   ]
  },
  {
   "cell_type": "code",
   "execution_count": 17,
   "metadata": {},
   "outputs": [],
   "source": [
    "def publish_hits(urls, hits_meta_file, create_hits_in_live = False):\n",
    "\n",
    "    #uncomment for production setting\n",
    "    #if len(urls) = 100: \n",
    "    if True:\n",
    "        environments = {\n",
    "                \"live\": {\n",
    "                    \"endpoint\": \"https://mturk-requester.us-east-1.amazonaws.com\",\n",
    "                    \"preview\": \"https://www.mturk.com/mturk/preview\",\n",
    "                    \"manage\": \"https://requester.mturk.com/mturk/manageHITs\",\n",
    "                    \"reward\": \"0.00\"\n",
    "                },\n",
    "                \"sandbox\": {\n",
    "                    \"endpoint\": \"https://mturk-requester-sandbox.us-east-1.amazonaws.com\",\n",
    "                    \"preview\": \"https://workersandbox.mturk.com/mturk/preview\",\n",
    "                    \"manage\": \"https://requestersandbox.mturk.com/mturk/manageHITs\",\n",
    "                    \"reward\": \"0.11\"\n",
    "                },\n",
    "        }\n",
    "        mturk_environment = environments[\"live\"] if create_hits_in_live else environments[\"sandbox\"]\n",
    "        \n",
    "        try:\n",
    "            mturk_valid_data = pd.read_csv(\"..\\data\\mturk_valid.csv\")\n",
    "            hit_already_created = mturk_valid_data['image_s3_url'].tolist()\n",
    "        except FileNotFoundError:\n",
    "            with open(\"..\\data\\mturk_valid.csv\",'w') as f:\n",
    "                f.close()\n",
    "            hit_already_created = []\n",
    "            \n",
    "        \n",
    "        hit_ids = {}\n",
    "            \n",
    "        for url in urls:\n",
    "            if url not in hit_already_created:\n",
    "                response = mturk_client.create_hit(\n",
    "                    MaxAssignments=1,\n",
    "                    LifetimeInSeconds=604800,\n",
    "                    AssignmentDurationInSeconds=900,\n",
    "                    Reward=mturk_environment['reward'],\n",
    "                    Title='Answer a simple question',\n",
    "                    Keywords='question, answer, research',\n",
    "                    Description='Answer a simple question. Created from mturk-code-samples.',\n",
    "                    #Question = question_sample,\n",
    "                    HITLayoutId='36MUXCXBEGS6MVQRB991571NIS8073',\n",
    "                    HITLayoutParameters= [\n",
    "                    {\n",
    "                            'Name': 'image_url',\n",
    "                            'Value': url\n",
    "                    },\n",
    "\n",
    "                    {\n",
    "                            'Name': 'character_predicted',\n",
    "                            'Value': url.split('/')[3]\n",
    "\n",
    "                    },\n",
    "                    ]\n",
    "            )\n",
    "                hit_ids[url]= [response['HIT']['HITId'],url.split('/')[3]]\n",
    "                #print(response['HIT']['HITId'])\n",
    "    with open('..\\data\\hits_meta'+str(time.time())+'.csv', 'w') as f:\n",
    "        for key in hit_ids.keys():\n",
    "            f.write(\"%s,%s,%s\\n\"%(key,hit_ids[key][0],hit_ids[key][1]))\n",
    "        f.close()\n",
    "        \n",
    "    return hit_ids\n"
   ]
  },
  {
   "cell_type": "code",
   "execution_count": 18,
   "metadata": {},
   "outputs": [],
   "source": [
    "def get_all_hit_ids(prefix = '..\\data\\hits_meta'):\n",
    "    \n",
    "    all_hit_ids = []\n",
    "    for meta_file in glob.glob('..\\data\\hits_meta*'):\n",
    "        file = meta_file\n",
    "        with open(file,'r') as f:\n",
    "            reader = csv.reader(f)\n",
    "            for row in reader:\n",
    "                #print(row[0],\" \",row[1])\n",
    "                all_hit_ids.append([row[0],row[1],row[2]])\n",
    "            \n",
    "    return all_hit_ids\n",
    "        \n",
    "    \n"
   ]
  },
  {
   "cell_type": "code",
   "execution_count": 19,
   "metadata": {},
   "outputs": [],
   "source": [
    "def parse_hit_response(hit_id):\n",
    "    list_assignments = mturk_client.list_assignments_for_hit(HITId = hit_id)\n",
    "    try:\n",
    "        soup = BeautifulSoup(list_assignments['Assignments'][0]['Answer'], 'html.parser')\n",
    "        selected_label = soup.find_all('freetext')[0].text\n",
    "        label_written = soup.find_all('freetext')[0].text\n",
    "    except:\n",
    "        selected_label = ' '\n",
    "        label_written = ' '\n",
    "    \n",
    "    return selected_label, label_written\n",
    "    "
   ]
  },
  {
   "cell_type": "code",
   "execution_count": 23,
   "metadata": {},
   "outputs": [],
   "source": [
    "urls = get_objecturls_from_bucket(s3_client,'segmentedchars')\n",
    "published_hit_ids = publish_hits(urls, '..\\data\\hits_meta.csv')\n",
    "all_hit_ids = get_all_hit_ids()\n",
    "with open(\"..\\data\\mturk_valid.csv\",'w') as f:\n",
    "    f.write(\"hitid,image_s3_url,predictedlabel,selected_label,labelwritten\\n\")\n",
    "    for hit in all_hit_ids:\n",
    "        image_s3_url = hit[0]\n",
    "        hit_id = hit[1]\n",
    "        predicted_label = hit[2]\n",
    "        selected_label, label_written = parse_hit_response(hit[1])\n",
    "        #print(selected_label, label_written)\n",
    "        f.write(\"%s,%s,%s,%s,%s\\n\"%(hit_id,image_s3_url,predicted_label,selected_label,label_written))\n",
    "    f.close()"
   ]
  },
  {
   "cell_type": "code",
   "execution_count": null,
   "metadata": {},
   "outputs": [],
   "source": []
  }
 ],
 "metadata": {
  "kernelspec": {
   "display_name": "Python 3",
   "language": "python",
   "name": "python3"
  },
  "language_info": {
   "codemirror_mode": {
    "name": "ipython",
    "version": 3
   },
   "file_extension": ".py",
   "mimetype": "text/x-python",
   "name": "python",
   "nbconvert_exporter": "python",
   "pygments_lexer": "ipython3",
   "version": "3.7.3"
  }
 },
 "nbformat": 4,
 "nbformat_minor": 2
}
