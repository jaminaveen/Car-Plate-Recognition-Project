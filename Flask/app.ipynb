{
 "cells": [
  {
   "cell_type": "code",
   "execution_count": 7,
   "metadata": {},
   "outputs": [
    {
     "name": "stdout",
     "output_type": "stream",
     "text": [
      " * Serving Flask app \"__main__\" (lazy loading)\n",
      " * Environment: production\n",
      "   WARNING: Do not use the development server in a production environment.\n",
      "   Use a production WSGI server instead.\n",
      " * Debug mode: on\n"
     ]
    },
    {
     "name": "stderr",
     "output_type": "stream",
     "text": [
      " * Restarting with stat\n"
     ]
    },
    {
     "ename": "SystemExit",
     "evalue": "1",
     "output_type": "error",
     "traceback": [
      "An exception has occurred, use %tb to see the full traceback.\n",
      "\u001b[1;31mSystemExit\u001b[0m\u001b[1;31m:\u001b[0m 1\n"
     ]
    }
   ],
   "source": [
    "from flask import Flask, request, jsonify, render_template, url_for, redirect, flash, Response, session, app\n",
    "import flask\n",
    "import pandas as pd\n",
    "from ast import literal_eval\n",
    "from controller import *\n",
    "import matplotlib.pyplot as plt\n",
    "from datetime import timedelta\n",
    "import random, string\n",
    "import os\n",
    "import matplotlib.pyplot as plt\n",
    "import matplotlib.image as mpimg\n",
    "import os.path\n",
    "from os import path\n",
    "import matplotlib.pyplot as plt\n",
    "import matplotlib.image as mpimg\n",
    "import cv2\n",
    "import numpy as np\n",
    "import pandas as pd\n",
    "import os\n",
    "import pickle\n",
    "from sklearn.model_selection import train_test_split\n",
    "from sklearn.preprocessing import OneHotEncoder\n",
    "from keras.models import Sequential, load_model\n",
    "from keras.layers import Dense, Conv2D, MaxPooling2D, Dropout, Flatten\n",
    "\n",
    "app = Flask(__name__)\n",
    "\n",
    "UPLOAD_FOLDER = r'C:\\Users\\91880\\Desktop\\GOOGLE_DRIVE\\Flask_Car_Plate_Recognition_System\\venv\\Programs\\Images_upload'\n",
    "app.secret_key = \"secret key\"\n",
    "app.config['UPLOAD_FOLDER'] = UPLOAD_FOLDER\n",
    "app.config['MAX_CONTENT_LENGTH'] = 16 * 1024 * 1024\n",
    "unique_identify_user = ''.join(random.choices(string.ascii_letters + string.digits, k=20))\n",
    "new_file_name = ''\n",
    "\n",
    "\n",
    "@app.route('/', methods=[\"GET\", \"POST\"])\n",
    "@app.route(\"/index\", methods=[\"GET\", \"POST\"])\n",
    "def index():\n",
    "    if request.method == \"GET\":\n",
    "        user_name = 'Team ML Pipelining'\n",
    "        operation = ['Local System', 'Click Picture']\n",
    "        return render_template('index.html', user_name=user_name, operation=operation)\n",
    "    elif request.method == \"POST\":\n",
    "        # unique_identify_user = ''.join(random.choices(string.ascii_letters + string.digits, k=20))\n",
    "        if request.form[\"operation_choice\"] == 'Local System':\n",
    "            return render_template('uploading.html')\n",
    "        elif request.form[\"operation_choice\"] == 'Click Picture':\n",
    "            return render_template('video.html')\n",
    "\n",
    "\n",
    "@app.route('/upload', methods=[\"POST\"])\n",
    "def upload():\n",
    "    if request.method == \"POST\":\n",
    "        file = request.files['file']\n",
    "\n",
    "        if file.filename == '':\n",
    "            flash('No file selected for uploading')\n",
    "            return redirect(url_for('upload'))\n",
    "        if file and allowed_file(file.filename):\n",
    "            filename = secure_filename(file.filename)\n",
    "            # print(os.path.splitext(filename)[0])\n",
    "            # print(os.path.splitext(filename)[1])\n",
    "            global new_file_name\n",
    "            new_file_name = str(unique_identify_user) + '_' + str(os.path.splitext(filename)[0]) + str(os.path.splitext(filename)[1])\n",
    "            saved_file = os.path.join(app.config['UPLOAD_FOLDER'], new_file_name)\n",
    "            print(saved_file)\n",
    "            file.save(os.path.join(saved_file))\n",
    "\n",
    "            # AWS CONNECT\n",
    "            # upload_aws(img_upload)\n",
    "            return redirect(url_for('index'))\n",
    "        else:\n",
    "            flash('Allowed file types are txt, pdf, png, jpg, jpeg, gif')\n",
    "            return redirect(url_for('upload'))\n",
    "\n",
    "\n",
    "@app.route('/video', methods=[\"POST\"])\n",
    "def video():\n",
    "    if request.method == \"POST\":\n",
    "        print('INSIDE VIDEO')\n",
    "        file_name = video_capture(app)\n",
    "        global new_file_name\n",
    "        new_file_name = file_name\n",
    "        print(new_file_name)\n",
    "        return redirect(url_for('index'))\n",
    "\n",
    "\n",
    "@app.route('/output', methods=[\"POST\"])\n",
    "def output():\n",
    "    if request.method == \"POST\":\n",
    "        global new_file_name\n",
    "        filename = os.path.join(app.config['UPLOAD_FOLDER'], new_file_name)\n",
    "\n",
    "        file_path = yolo_bounding_box(filename)\n",
    "        # read the data from the file\n",
    "        print(file_path)\n",
    "\n",
    "        img, digits = plate_segmentation(file_path)\n",
    "        out = predict_cnn(digits)\n",
    "\n",
    "        print(img)\n",
    "\n",
    "        cv2.imshow(\"Bounding Box for the image\", img)\n",
    "        cv2.putText(img, out[0])\n",
    "        cv2.putText(img, out[1])\n",
    "\n",
    "        cv2.waitKey(0)\n",
    "        cv2.destroyAllWindows()\n",
    "        #\n",
    "        # with open(file_path, 'rb') as infile:\n",
    "        #     buf = infile.read()\n",
    "        #\n",
    "        # # use numpy to construct an array from the bytes\n",
    "        # x = np.fromstring(buf, dtype='uint8')\n",
    "        #\n",
    "        # # decode the array into an image\n",
    "        # img = cv2.imdecode(x, cv2.IMREAD_UNCHANGED)\n",
    "        #\n",
    "        # # show it\n",
    "        # cv2.imshow(\"Bounding Box for the image\", img)\n",
    "        # cv2.waitKey(0)\n",
    "        # plt.imshow(img)\n",
    "        # plt.imshow(digits)\n",
    "        return redirect(url_for('index'))\n",
    "\n",
    "\n",
    "def about():\n",
    "    return render_template(\"about.html\")\n",
    "\n",
    "\n",
    "# run Flask app\n",
    "if __name__ == \"__main__\":\n",
    "    app.run(debug=True)\n"
   ]
  },
  {
   "cell_type": "code",
   "execution_count": 6,
   "metadata": {},
   "outputs": [
    {
     "data": {
      "text/plain": [
       "'C:\\\\ProgramData\\\\Anaconda3\\\\python.exe'"
      ]
     },
     "execution_count": 6,
     "metadata": {},
     "output_type": "execute_result"
    }
   ],
   "source": [
    "\n",
    "\n",
    "import sys\n",
    "sys.executable"
   ]
  },
  {
   "cell_type": "code",
   "execution_count": 3,
   "metadata": {},
   "outputs": [
    {
     "name": "stdout",
     "output_type": "stream",
     "text": [
      "Requirement already satisfied: Flask in c:\\programdata\\anaconda3\\lib\\site-packages (1.0.2)\n",
      "Requirement already satisfied: itsdangerous>=0.24 in c:\\programdata\\anaconda3\\lib\\site-packages (from Flask) (1.1.0)\n",
      "Requirement already satisfied: Jinja2>=2.10 in c:\\programdata\\anaconda3\\lib\\site-packages (from Flask) (2.10)\n",
      "Requirement already satisfied: Werkzeug>=0.14 in c:\\programdata\\anaconda3\\lib\\site-packages (from Flask) (0.14.1)\n",
      "Requirement already satisfied: click>=5.1 in c:\\programdata\\anaconda3\\lib\\site-packages (from Flask) (7.0)\n",
      "Requirement already satisfied: MarkupSafe>=0.23 in c:\\programdata\\anaconda3\\lib\\site-packages (from Jinja2>=2.10->Flask) (1.1.0)\n"
     ]
    }
   ],
   "source": [
    "!pip install Flask"
   ]
  },
  {
   "cell_type": "code",
   "execution_count": 8,
   "metadata": {},
   "outputs": [],
   "source": [
    "def predict_cnn(sorted_digits):\n",
    "    # Predict\n",
    "    # for d in digits:\n",
    "    model = load_model('./conf/cnn.h5')\n",
    "    prediction_list = []\n",
    "    precision_list = []\n",
    "    for d in sorted_digits:\n",
    "\n",
    "        d = np.reshape(d, (1, 28, 28, 1))\n",
    "        out = model.predict(d)\n",
    "        # Get max pre arg\n",
    "        p = []\n",
    "        precision = 0\n",
    "        for i in range(len(out)):\n",
    "            z = np.zeros(36)\n",
    "            z[np.argmax(out[i])] = 1.\n",
    "            precision = max(out[i])\n",
    "            p.append(z)\n",
    "        prediction = np.array(p)\n",
    "\n",
    "        # one hot encoding\n",
    "        alphabets = ['0', '1', '2', '3', '4', '5', '6', '7', '8', '9', 'A', 'B', 'C', 'D', 'E', 'F', 'G', 'H', 'I', 'J', 'K', 'L', 'M', 'N', 'O', 'P', 'Q', 'R', 'S', 'T', 'U', 'V', 'W', 'X', 'Y', 'Z']\n",
    "        classes = []\n",
    "        for a in alphabets:\n",
    "            classes.append([a])\n",
    "        ohe = OneHotEncoder(handle_unknown='ignore', categorical_features=None)\n",
    "        ohe.fit(classes)\n",
    "        pred = ohe.inverse_transform(prediction)\n",
    "\n",
    "        #     if precision > 0.8:\n",
    "        #         print('Prediction : ' + str(pred[0][0]) + ' , Precision : ' + )\n",
    "        prediction_list.append(str(pred[0][0]))\n",
    "        precision_list.append(str(precision))\n",
    "    return [str(pred[0][0]), str(precision)]"
   ]
  },
  {
   "cell_type": "code",
   "execution_count": null,
   "metadata": {},
   "outputs": [],
   "source": []
  }
 ],
 "metadata": {
  "kernelspec": {
   "display_name": "Python 3",
   "language": "python",
   "name": "python3"
  },
  "language_info": {
   "codemirror_mode": {
    "name": "ipython",
    "version": 3
   },
   "file_extension": ".py",
   "mimetype": "text/x-python",
   "name": "python",
   "nbconvert_exporter": "python",
   "pygments_lexer": "ipython3",
   "version": "3.7.1"
  }
 },
 "nbformat": 4,
 "nbformat_minor": 2
}
